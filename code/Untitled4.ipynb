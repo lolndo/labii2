{
 "cells": [
  {
   "cell_type": "code",
   "execution_count": 14,
   "id": "13d550aa-38d0-47c8-ad2e-5db01fe6166e",
   "metadata": {
    "tags": []
   },
   "outputs": [
    {
     "name": "stdout",
     "output_type": "stream",
     "text": [
      " Том в устройстве C не имеет метки.\n",
      " Серийный номер тома: 320C-B075\n",
      "\n",
      " Содержимое папки C:\\Users\\student-09-302\\Desktop\\lab2\\labii2\\code\n",
      "\n",
      "14.05.2025  14:31    <DIR>          .\n",
      "14.05.2025  14:31    <DIR>          ..\n",
      "14.05.2025  14:07    <DIR>          .ipynb_checkpoints\n",
      "14.05.2025  13:48            50 200 1.jpg\n",
      "14.05.2025  13:55             2 002 PracticalTask1.ipynb\n",
      "14.05.2025  13:58             2 842 Untitled.ipynb\n",
      "14.05.2025  13:58            30 665 Untitled1.ipynb\n",
      "14.05.2025  13:58             1 829 Untitled2.ipynb\n",
      "14.05.2025  13:58             9 260 Untitled3.ipynb\n",
      "14.05.2025  14:31             4 692 Untitled4.ipynb\n",
      "14.05.2025  13:59             2 885 workWithFiles.ipynb\n",
      "               8 файлов        104 375 байт\n",
      "               3 папок   4 048 879 616 байт свободно\n",
      "Python 3.11.4\n",
      " Том в устройстве C не имеет метки.\n",
      " Серийный номер тома: 320C-B075\n",
      "\n",
      " Содержимое папки C:\\Users\\student-09-302\\Desktop\\lab2\\labii2\\code\n",
      "\n",
      "14.05.2025  14:32    <DIR>          .\n",
      "14.05.2025  14:32    <DIR>          ..\n",
      "14.05.2025  14:07    <DIR>          .ipynb_checkpoints\n",
      "14.05.2025  13:48            50 200 1.jpg\n",
      "14.05.2025  13:55             2 002 PracticalTask1.ipynb\n",
      "14.05.2025  14:32    <DIR>          test_folder\n",
      "14.05.2025  13:58             2 842 Untitled.ipynb\n",
      "14.05.2025  13:58            30 665 Untitled1.ipynb\n",
      "14.05.2025  13:58             1 829 Untitled2.ipynb\n",
      "14.05.2025  13:58             9 260 Untitled3.ipynb\n",
      "14.05.2025  14:31             4 692 Untitled4.ipynb\n",
      "14.05.2025  13:59             2 885 workWithFiles.ipynb\n",
      "               8 файлов        104 375 байт\n",
      "               4 папок   4 048 773 120 байт свободно\n",
      " Том в устройстве C не имеет метки.\n",
      " Серийный номер тома: 320C-B075\n",
      "\n",
      " Содержимое папки C:\\Users\\student-09-302\\Desktop\\lab2\\labii2\\code\n",
      "\n",
      "14.05.2025  14:32    <DIR>          .\n",
      "14.05.2025  14:32    <DIR>          ..\n",
      "14.05.2025  14:07    <DIR>          .ipynb_checkpoints\n",
      "14.05.2025  13:48            50 200 1.jpg\n",
      "14.05.2025  13:55             2 002 PracticalTask1.ipynb\n",
      "14.05.2025  13:58             2 842 Untitled.ipynb\n",
      "14.05.2025  13:58            30 665 Untitled1.ipynb\n",
      "14.05.2025  13:58             1 829 Untitled2.ipynb\n",
      "14.05.2025  13:58             9 260 Untitled3.ipynb\n",
      "14.05.2025  14:31             4 692 Untitled4.ipynb\n",
      "14.05.2025  13:59             2 885 workWithFiles.ipynb\n",
      "               8 файлов        104 375 байт\n",
      "               3 папок   4 048 773 120 байт свободно\n"
     ]
    }
   ],
   "source": [
    "!dir\n",
    "!python --version\n",
    "!mkdir test_folder\n",
    "!dir\n",
    "!rmdir test_folder\n",
    "!dir"
   ]
  },
  {
   "cell_type": "code",
   "execution_count": null,
   "id": "3aa89624-7024-423f-a5a3-4c35c6fe7bba",
   "metadata": {},
   "outputs": [],
   "source": []
  }
 ],
 "metadata": {
  "kernelspec": {
   "display_name": "Python 3 (ipykernel)",
   "language": "python",
   "name": "python3"
  },
  "language_info": {
   "codemirror_mode": {
    "name": "ipython",
    "version": 3
   },
   "file_extension": ".py",
   "mimetype": "text/x-python",
   "name": "python",
   "nbconvert_exporter": "python",
   "pygments_lexer": "ipython3",
   "version": "3.11.4"
  }
 },
 "nbformat": 4,
 "nbformat_minor": 5
}
