{
 "cells": [
  {
   "cell_type": "code",
   "execution_count": 27,
   "id": "eee192ef-7149-463f-9769-f06acd347287",
   "metadata": {},
   "outputs": [],
   "source": [
    "import os\n",
    "\n",
    "with open(\"test.txt\", \"w\") as f:\n",
    "    f.write(\"Первая строка\\n\")\n",
    "    f.write(\"Вторая строка\\n\")"
   ]
  },
  {
   "cell_type": "code",
   "execution_count": 29,
   "id": "abc6f968-9446-4b5a-9876-15ceb8f21a0c",
   "metadata": {},
   "outputs": [
    {
     "name": "stdout",
     "output_type": "stream",
     "text": [
      "Содержимое файла: Первая строка\n",
      "Вторая строка\n",
      "\n"
     ]
    }
   ],
   "source": [
    "with open(\"test.txt\", \"r\") as f:\n",
    "    content = f.read()\n",
    "    print(f\"Содержимое файла: {content}\")"
   ]
  },
  {
   "cell_type": "code",
   "execution_count": 31,
   "id": "8d9b1aa1-7531-436a-8c21-e1596ac98a74",
   "metadata": {},
   "outputs": [
    {
     "name": "stdout",
     "output_type": "stream",
     "text": [
      "Файл: True\n"
     ]
    }
   ],
   "source": [
    "print(f\"Файл: {os.path.exists(\"test.txt\")}\")"
   ]
  },
  {
   "cell_type": "code",
   "execution_count": 33,
   "id": "c6368ef4-132f-4d86-82fa-1e4db7d904bf",
   "metadata": {},
   "outputs": [
    {
     "name": "stdout",
     "output_type": "stream",
     "text": [
      "Файл : False\n"
     ]
    }
   ],
   "source": [
    "os.remove(\"test.txt\")\n",
    "print(f\"Файл : {os.path.exists(\"test.txt\")}\")"
   ]
  },
  {
   "cell_type": "code",
   "execution_count": null,
   "id": "46767d90-e484-4314-9785-c3d4b6697abd",
   "metadata": {},
   "outputs": [],
   "source": []
  }
 ],
 "metadata": {
  "kernelspec": {
   "display_name": "Python [conda env:base] *",
   "language": "python",
   "name": "conda-base-py"
  },
  "language_info": {
   "codemirror_mode": {
    "name": "ipython",
    "version": 3
   },
   "file_extension": ".py",
   "mimetype": "text/x-python",
   "name": "python",
   "nbconvert_exporter": "python",
   "pygments_lexer": "ipython3",
   "version": "3.12.7"
  }
 },
 "nbformat": 4,
 "nbformat_minor": 5
}
