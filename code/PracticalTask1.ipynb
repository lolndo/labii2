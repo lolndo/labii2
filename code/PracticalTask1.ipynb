{
 "cells": [
  {
   "cell_type": "markdown",
   "id": "dd7424e8-729f-49fa-a834-424fa21b1ba8",
   "metadata": {},
   "source": [
    "# Практическое задание 1\n",
    "\n",
    "**Жирный** и *курсивный* текст\n",
    "\n",
    "Маркированный список:\n",
    "- Первый\n",
    "- Второй\n",
    "- Третий\n",
    "\n",
    "Нумерованный список:\n",
    "1. Первый пункт\n",
    "2. Второй пункт\n",
    "3. Третий пункт\n",
    "\n",
    "Формула согласно индивидуальному варианту:\n",
    "$$A = \\int_{a}^{b} |f(x) - g(x)| dx$$\n",
    "\n",
    "Картинка: ![Котик](kotek.jpg)"
   ]
  },
  {
   "cell_type": "code",
   "execution_count": 3,
   "id": "9a7b52df-d314-428c-8035-b083b32936f7",
   "metadata": {},
   "outputs": [
    {
     "name": "stdin",
     "output_type": "stream",
     "text": [
      "Введите свое имя:  Sasha\n"
     ]
    },
    {
     "name": "stdout",
     "output_type": "stream",
     "text": [
      "Привет, Sasha! Добро пожаловать в JupyterLab!\n"
     ]
    }
   ],
   "source": [
    "name = input(\"Введите свое имя: \")\n",
    "print(f\"Привет, {name}! Добро пожаловать в JupyterLab!\")"
   ]
  },
  {
   "cell_type": "code",
   "execution_count": null,
   "id": "1ee96c08-bb93-49b5-bf7f-7a1268c2bae7",
   "metadata": {},
   "outputs": [],
   "source": []
  }
 ],
 "metadata": {
  "kernelspec": {
   "display_name": "Python [conda env:base] *",
   "language": "python",
   "name": "conda-base-py"
  },
  "language_info": {
   "codemirror_mode": {
    "name": "ipython",
    "version": 3
   },
   "file_extension": ".py",
   "mimetype": "text/x-python",
   "name": "python",
   "nbconvert_exporter": "python",
   "pygments_lexer": "ipython3",
   "version": "3.12.7"
  }
 },
 "nbformat": 4,
 "nbformat_minor": 5
}
