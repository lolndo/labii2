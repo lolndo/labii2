{
 "cells": [
  {
   "cell_type": "code",
   "execution_count": 1,
   "id": "eee192ef-7149-463f-9769-f06acd347287",
   "metadata": {
    "id": "eee192ef-7149-463f-9769-f06acd347287"
   },
   "outputs": [],
   "source": [
    "import os\n",
    "\n",
    "with open(\"test.txt\", \"w\") as f:\n",
    "    f.write(\"Первая строка\\n\")\n",
    "    f.write(\"Вторая строка\\n\")"
   ]
  },
  {
   "cell_type": "code",
   "execution_count": 2,
   "id": "abc6f968-9446-4b5a-9876-15ceb8f21a0c",
   "metadata": {
    "colab": {
     "base_uri": "https://localhost:8080/"
    },
    "id": "abc6f968-9446-4b5a-9876-15ceb8f21a0c",
    "outputId": "6b9ea6a3-8b11-431f-8d98-cb896e5facf9"
   },
   "outputs": [
    {
     "name": "stdout",
     "output_type": "stream",
     "text": [
      "Содержимое файла: Первая строка\n",
      "Вторая строка\n",
      "\n"
     ]
    }
   ],
   "source": [
    "with open(\"test.txt\", \"r\") as f:\n",
    "    content = f.read()\n",
    "    print(f\"Содержимое файла: {content}\")"
   ]
  },
  {
   "cell_type": "code",
   "execution_count": 3,
   "id": "8d9b1aa1-7531-436a-8c21-e1596ac98a74",
   "metadata": {
    "colab": {
     "base_uri": "https://localhost:8080/"
    },
    "id": "8d9b1aa1-7531-436a-8c21-e1596ac98a74",
    "outputId": "806041e8-527f-4995-f198-39a217c3ab43"
   },
   "outputs": [
    {
     "name": "stdout",
     "output_type": "stream",
     "text": [
      "Файл: True\n"
     ]
    }
   ],
   "source": [
    "file_path=\"test.txt\"\n",
    "print(f\"Файл: {os.path.exists(file_path)}\")"
   ]
  },
  {
   "cell_type": "code",
   "execution_count": 4,
   "id": "c6368ef4-132f-4d86-82fa-1e4db7d904bf",
   "metadata": {
    "colab": {
     "base_uri": "https://localhost:8080/"
    },
    "id": "c6368ef4-132f-4d86-82fa-1e4db7d904bf",
    "outputId": "60f28f03-0de5-449e-b057-d89a2c723cba"
   },
   "outputs": [
    {
     "name": "stdout",
     "output_type": "stream",
     "text": [
      "Файл : False\n"
     ]
    }
   ],
   "source": [
    "os.remove(\"test.txt\")\n",
    "print(f\"Файл : {os.path.exists(file_path)}\")"
   ]
  },
  {
   "cell_type": "code",
   "execution_count": null,
   "id": "46767d90-e484-4314-9785-c3d4b6697abd",
   "metadata": {
    "id": "46767d90-e484-4314-9785-c3d4b6697abd"
   },
   "outputs": [],
   "source": []
  }
 ],
 "metadata": {
  "colab": {
   "provenance": []
  },
  "kernelspec": {
   "display_name": "Python 3 (ipykernel)",
   "language": "python",
   "name": "python3"
  },
  "language_info": {
   "codemirror_mode": {
    "name": "ipython",
    "version": 3
   },
   "file_extension": ".py",
   "mimetype": "text/x-python",
   "name": "python",
   "nbconvert_exporter": "python",
   "pygments_lexer": "ipython3",
   "version": "3.11.4"
  }
 },
 "nbformat": 4,
 "nbformat_minor": 5
}
