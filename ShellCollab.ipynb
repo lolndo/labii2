{
  "nbformat": 4,
  "nbformat_minor": 0,
  "metadata": {
    "colab": {
      "provenance": [],
      "authorship_tag": "ABX9TyN5iWdxDLvz38WdKvI0/8Kv"
    },
    "kernelspec": {
      "name": "python3",
      "display_name": "Python 3"
    },
    "language_info": {
      "name": "python"
    }
  },
  "cells": [
    {
      "cell_type": "code",
      "execution_count": 4,
      "metadata": {
        "colab": {
          "base_uri": "https://localhost:8080/"
        },
        "id": "UKnia-wq-1w0",
        "outputId": "a9b7b22f-55e2-4210-c406-397bf968f321"
      },
      "outputs": [
        {
          "output_type": "stream",
          "name": "stdout",
          "text": [
            "Список файлов в текущей директории:\n",
            "sample_data  test_folder\n"
          ]
        }
      ],
      "source": [
        "import os\n",
        "print(\"Список файлов в текущей директории:\")\n",
        "!ls"
      ]
    },
    {
      "cell_type": "code",
      "source": [
        "print(\"\\nПуть к используемому Python:\")\n",
        "!which python"
      ],
      "metadata": {
        "colab": {
          "base_uri": "https://localhost:8080/"
        },
        "id": "RoTY4ko7_Ql1",
        "outputId": "c5e77582-5a15-4d8f-a967-7f954af5d560"
      },
      "execution_count": 2,
      "outputs": [
        {
          "output_type": "stream",
          "name": "stdout",
          "text": [
            "\n",
            "Путь к используемому Python:\n",
            "/usr/local/bin/python\n"
          ]
        }
      ]
    },
    {
      "cell_type": "code",
      "source": [
        "folder_name = \"test_folder\"\n",
        "\n",
        "print(f\"\\nСоздание папки '{folder_name}':\")\n",
        "!mkdir {folder_name}\n",
        "\n",
        "print(\"\\nПроверка, что папка создана:\")\n",
        "!ls"
      ],
      "metadata": {
        "colab": {
          "base_uri": "https://localhost:8080/"
        },
        "id": "-9tf2MGh_bWU",
        "outputId": "12c3c631-0092-46ff-9ae1-5f1c5aa6f1a7"
      },
      "execution_count": 3,
      "outputs": [
        {
          "output_type": "stream",
          "name": "stdout",
          "text": [
            "\n",
            "Создание папки 'test_folder':\n",
            "\n",
            "Проверка, что папка создана:\n",
            "sample_data  test_folder\n"
          ]
        }
      ]
    },
    {
      "cell_type": "code",
      "source": [
        "file_name = \"test_file.txt\"\n",
        "file_path = os.path.join(\".\", file_name)\n",
        "folder_path = os.path.join(\".\", folder_name)\n",
        "\n",
        "#Создаем файл\n",
        "if not os.path.exists(file_path):\n",
        "  with open(file_path, \"w\") as f:\n",
        "    f.write(\"Test content\")\n",
        "  print(f\"Создан файл: {file_path}\")\n",
        "\n",
        "print(f\"\\nПеремещение файла '{file_name}' в папку '{folder_name}':\")\n",
        "!mv {file_name} {folder_name}\n",
        "\n",
        "print(\"\\nПроверка, что файл перемещен:\")\n",
        "!ls {folder_name}\n",
        "\n",
        "print(f\"\\nУдаление файла '{file_name}' из папки '{folder_name}':\")\n",
        "!rm {folder_path}/{file_name}\n",
        "\n",
        "print(\"\\nПроверка, что файл удален:\")\n",
        "!ls {folder_name}"
      ],
      "metadata": {
        "colab": {
          "base_uri": "https://localhost:8080/"
        },
        "id": "XpA5VNfy_lBx",
        "outputId": "bf23da80-e681-46dd-a4e8-4316314c0797"
      },
      "execution_count": 5,
      "outputs": [
        {
          "output_type": "stream",
          "name": "stdout",
          "text": [
            "Создан файл: ./test_file.txt\n",
            "\n",
            "Перемещение файла 'test_file.txt' в папку 'test_folder':\n",
            "\n",
            "Проверка, что файл перемещен:\n",
            "test_file.txt\n",
            "\n",
            "Удаление файла 'test_file.txt' из папки 'test_folder':\n",
            "\n",
            "Проверка, что файл удален:\n"
          ]
        }
      ]
    },
    {
      "cell_type": "code",
      "source": [
        "!rmdir {folder_name}"
      ],
      "metadata": {
        "id": "jEtUCtntBcAn"
      },
      "execution_count": 11,
      "outputs": []
    },
    {
      "cell_type": "code",
      "source": [
        "!ls"
      ],
      "metadata": {
        "colab": {
          "base_uri": "https://localhost:8080/"
        },
        "id": "2s9Zk7iZCIjE",
        "outputId": "ac40356c-bd5a-4edc-82ff-40023b1f345c"
      },
      "execution_count": 12,
      "outputs": [
        {
          "output_type": "stream",
          "name": "stdout",
          "text": [
            "sample_data\n"
          ]
        }
      ]
    }
  ]
}